{
 "cells": [
  {
   "cell_type": "code",
   "execution_count": null,
   "id": "7d75e8ab-11a2-4fd1-8968-5f4d8bc5415e",
   "metadata": {},
   "outputs": [],
   "source": [
    "!!python test.py --input ./examples/input/test --output ./examples/output/test --remove 15 --cpu yes"
   ]
  },
  {
   "cell_type": "code",
   "execution_count": null,
   "id": "836dc0c8-a824-4511-ad0d-a1704f7b98c2",
   "metadata": {},
   "outputs": [],
   "source": []
  }
 ],
 "metadata": {
  "kernelspec": {
   "display_name": "Python 3 (ipykernel)",
   "language": "python",
   "name": "python3"
  },
  "language_info": {
   "codemirror_mode": {
    "name": "ipython",
    "version": 3
   },
   "file_extension": ".py",
   "mimetype": "text/x-python",
   "name": "python",
   "nbconvert_exporter": "python",
   "pygments_lexer": "ipython3",
   "version": "3.8.18"
  }
 },
 "nbformat": 4,
 "nbformat_minor": 5
}
